{
 "cells": [
  {
   "cell_type": "code",
   "execution_count": 68,
   "metadata": {},
   "outputs": [],
   "source": [
    "import cv2\n",
    "import numpy as np"
   ]
  },
  {
   "cell_type": "code",
   "execution_count": 99,
   "metadata": {},
   "outputs": [],
   "source": [
    "def sharp(image):\n",
    "\n",
    "    # Convert the image to grayscale (if it's not already)\n",
    "    # gray_image = cv2.cvtColor(image, cv2.COLOR_BGR2GRAY)\n",
    "\n",
    "    # Apply Gaussian blur to the grayscale image to reduce noise and smoothen it\n",
    "    blurred_image = cv2.GaussianBlur(image, (5, 5), 0)\n",
    "\n",
    "    # Apply Laplacian operator for image sharpening\n",
    "    sharp_image = cv2.Laplacian(blurred_image, cv2.CV_64F)\n",
    "\n",
    "    # Convert the result to 8-bit for display\n",
    "    sharp_image = np.uint8(np.absolute(sharp_image))\n",
    "\n",
    "    # Add the original image and the sharpened image to see the difference\n",
    "    sharpened_image = cv2.addWeighted(image, 1.5, sharp_image, -0.5, 0)\n",
    "    \n",
    "\n",
    "    return sharp_image\n"
   ]
  },
  {
   "cell_type": "code",
   "execution_count": 100,
   "metadata": {},
   "outputs": [],
   "source": [
    "def compare_signatures(image_path1, image_path2):\n",
    "    # Load the signature images\n",
    "    image1 = cv2.imread(image_path1, cv2.IMREAD_GRAYSCALE)\n",
    "    image2 = cv2.imread(image_path2, cv2.IMREAD_GRAYSCALE)\n",
    "\n",
    "    # Resize the images to a consistent size if necessary\n",
    "    image1 = cv2.resize(image1, (300, 300))\n",
    "    image1 = sharp(image1)\n",
    "\n",
    "    image2 = cv2.resize(image2, (300, 300))\n",
    "    image2 = sharp(image2)\n",
    "\n",
    "    cv2.imshow(\"Image Window\", image1)\n",
    "    cv2.imshow(\"Image Window 02\", image2)\n",
    "\n",
    "    cv2.waitKey(0)\n",
    "    cv2.destroyAllWindows()\n",
    "\n",
    "    # Extract features from the images (e.g., using ORB)\n",
    "    orb = cv2.ORB_create()\n",
    "    keypoints1, descriptors1 = orb.detectAndCompute(image1, None)\n",
    "    keypoints2, descriptors2 = orb.detectAndCompute(image2, None)\n",
    "\n",
    "    # Match the descriptors using a matcher (e.g., Brute-Force Matcher)\n",
    "    bf = cv2.BFMatcher(cv2.NORM_HAMMING, crossCheck=True)\n",
    "    matches = bf.match(descriptors1, descriptors2)\n",
    "\n",
    "    # Sort matches by distance\n",
    "    matches = sorted(matches, key=lambda x: x.distance)\n",
    "\n",
    "    # Calculate a matching score (e.g., based on the number of good matches)\n",
    "    matching_score = len(matches) / len(keypoints1) * 100\n",
    "\n",
    "    return matching_score\n"
   ]
  },
  {
   "cell_type": "code",
   "execution_count": 109,
   "metadata": {},
   "outputs": [],
   "source": [
    "# Example usage:\n",
    "image_path1 = \"image/08/04.jpeg\"\n",
    "image_path2 = \"image/08/04_1.jpeg\"\n",
    "\n",
    "\n",
    "image = cv2.imread(image_path1)\n",
    "image02 = cv2.imread(image_path2)\n",
    "\n",
    "image = cv2.resize(image, (300, 300))\n",
    "image02 = cv2.resize(image02, (300, 300))\n",
    "# Display the image in a window\n",
    "cv2.imshow(\"Image Window\", image)\n",
    "cv2.imshow(\"Image Window 02\", image02)\n",
    "\n",
    "cv2.waitKey(0)\n",
    "cv2.destroyAllWindows()"
   ]
  },
  {
   "cell_type": "code",
   "execution_count": 110,
   "metadata": {},
   "outputs": [
    {
     "name": "stdout",
     "output_type": "stream",
     "text": [
      "Matching Percentage: 42.42%\n"
     ]
    }
   ],
   "source": [
    "matching_percentage = compare_signatures(image_path1, image_path2)\n",
    "print(f\"Matching Percentage: {matching_percentage:.2f}%\")"
   ]
  },
  {
   "cell_type": "code",
   "execution_count": null,
   "metadata": {},
   "outputs": [],
   "source": []
  },
  {
   "cell_type": "code",
   "execution_count": null,
   "metadata": {},
   "outputs": [],
   "source": []
  }
 ],
 "metadata": {
  "kernelspec": {
   "display_name": "base",
   "language": "python",
   "name": "python3"
  },
  "language_info": {
   "codemirror_mode": {
    "name": "ipython",
    "version": 3
   },
   "file_extension": ".py",
   "mimetype": "text/x-python",
   "name": "python",
   "nbconvert_exporter": "python",
   "pygments_lexer": "ipython3",
   "version": "3.9.13"
  },
  "orig_nbformat": 4
 },
 "nbformat": 4,
 "nbformat_minor": 2
}
